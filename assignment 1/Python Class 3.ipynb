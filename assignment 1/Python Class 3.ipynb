{
 "cells": [
  {
   "cell_type": "code",
   "execution_count": 1,
   "id": "89458de3",
   "metadata": {},
   "outputs": [
    {
     "name": "stdout",
     "output_type": "stream",
     "text": [
      "Enter a value:30\n",
      "55\n"
     ]
    }
   ],
   "source": [
    "x=int(input(\"Enter a value:\"));\n",
    "y=25;\n",
    "z=x+y;\n",
    "print(z)"
   ]
  },
  {
   "cell_type": "code",
   "execution_count": 2,
   "id": "d9b41f36",
   "metadata": {},
   "outputs": [
    {
     "name": "stdout",
     "output_type": "stream",
     "text": [
      "Enter a value:23\n"
     ]
    },
    {
     "ename": "TypeError",
     "evalue": "can only concatenate str (not \"int\") to str",
     "output_type": "error",
     "traceback": [
      "\u001b[1;31m---------------------------------------------------------------------------\u001b[0m",
      "\u001b[1;31mTypeError\u001b[0m                                 Traceback (most recent call last)",
      "\u001b[1;32m<ipython-input-2-5608e1a701a3>\u001b[0m in \u001b[0;36m<module>\u001b[1;34m\u001b[0m\n\u001b[0;32m      1\u001b[0m \u001b[0mx\u001b[0m\u001b[1;33m=\u001b[0m\u001b[0minput\u001b[0m\u001b[1;33m(\u001b[0m\u001b[1;34m\"Enter a value:\"\u001b[0m\u001b[1;33m)\u001b[0m\u001b[1;33m;\u001b[0m\u001b[1;33m\u001b[0m\u001b[1;33m\u001b[0m\u001b[0m\n\u001b[0;32m      2\u001b[0m \u001b[0my\u001b[0m\u001b[1;33m=\u001b[0m\u001b[1;36m25\u001b[0m\u001b[1;33m;\u001b[0m\u001b[1;33m\u001b[0m\u001b[1;33m\u001b[0m\u001b[0m\n\u001b[1;32m----> 3\u001b[1;33m \u001b[0mz\u001b[0m\u001b[1;33m=\u001b[0m\u001b[0mx\u001b[0m\u001b[1;33m+\u001b[0m\u001b[0my\u001b[0m\u001b[1;33m;\u001b[0m\u001b[1;33m\u001b[0m\u001b[1;33m\u001b[0m\u001b[0m\n\u001b[0m\u001b[0;32m      4\u001b[0m \u001b[0mprint\u001b[0m\u001b[1;33m(\u001b[0m\u001b[0mz\u001b[0m\u001b[1;33m)\u001b[0m\u001b[1;33m\u001b[0m\u001b[1;33m\u001b[0m\u001b[0m\n",
      "\u001b[1;31mTypeError\u001b[0m: can only concatenate str (not \"int\") to str"
     ]
    }
   ],
   "source": [
    "x=input(\"Enter a value:\");\n",
    "y=25;\n",
    "z=x+y;\n",
    "print(z)"
   ]
  },
  {
   "cell_type": "code",
   "execution_count": 6,
   "id": "1352922e",
   "metadata": {},
   "outputs": [
    {
     "name": "stdout",
     "output_type": "stream",
     "text": [
      "Enter a value of x:20\n",
      "Enter a value of y:60\n",
      "80\n"
     ]
    }
   ],
   "source": [
    "x=input(\"Enter a value of x:\");\n",
    "y=input(\"Enter a value of y:\");\n",
    "z=int(x)+int(y);\n",
    "print(z)"
   ]
  },
  {
   "cell_type": "code",
   "execution_count": 3,
   "id": "98099652",
   "metadata": {},
   "outputs": [
    {
     "name": "stdout",
     "output_type": "stream",
     "text": [
      "81\n"
     ]
    }
   ],
   "source": [
    "y=3**4;\n",
    "print(y)"
   ]
  },
  {
   "cell_type": "code",
   "execution_count": 13,
   "id": "2aaaab04",
   "metadata": {},
   "outputs": [
    {
     "name": "stdout",
     "output_type": "stream",
     "text": [
      "Hello\n",
      "world\n"
     ]
    }
   ],
   "source": [
    "print(\"Hello\\nworld\");\n"
   ]
  },
  {
   "cell_type": "code",
   "execution_count": 15,
   "id": "d29050d2",
   "metadata": {},
   "outputs": [
    {
     "name": "stdout",
     "output_type": "stream",
     "text": [
      "True\n"
     ]
    }
   ],
   "source": [
    "x=10;\n",
    "y=12;\n",
    "a=30;\n",
    "b=8;\n",
    "if x+y == a-b:\n",
    "    print(True)\n",
    "else:\n",
    "    print(False);"
   ]
  },
  {
   "cell_type": "code",
   "execution_count": 16,
   "id": "e3ec6baa",
   "metadata": {},
   "outputs": [
    {
     "name": "stdout",
     "output_type": "stream",
     "text": [
      "Enter age: 18\n",
      "Enter Gender: male\n",
      "Allow\n"
     ]
    }
   ],
   "source": [
    "age=int(input(\"Enter age: \"));\n",
    "gender= input(\"Enter Gender: \");\n",
    "if age>= 18 and gender==\"male\":\n",
    "    print(\"Allow\");\n",
    "else :\n",
    "    print(\"Do not allow\");"
   ]
  },
  {
   "cell_type": "code",
   "execution_count": 17,
   "id": "df5ebd05",
   "metadata": {},
   "outputs": [
    {
     "name": "stdout",
     "output_type": "stream",
     "text": [
      "Enter age: 10\n",
      "Enter Gender: male\n",
      "Allow\n"
     ]
    }
   ],
   "source": [
    "age=int(input(\"Enter age: \"));\n",
    "gender= input(\"Enter Gender: \");\n",
    "if age>= 18 or gender==\"male\":\n",
    "    print(\"Allow\");\n",
    "else :\n",
    "    print(\"Do not allow\");"
   ]
  },
  {
   "cell_type": "code",
   "execution_count": 18,
   "id": "8372509a",
   "metadata": {},
   "outputs": [
    {
     "name": "stdout",
     "output_type": "stream",
     "text": [
      "Hello world\n"
     ]
    }
   ],
   "source": [
    "\"\"\"we are learning python\n",
    "learning list now\"\"\"\n",
    "print(\"Hello world\");"
   ]
  },
  {
   "cell_type": "code",
   "execution_count": 22,
   "id": "cb9a9404",
   "metadata": {},
   "outputs": [
    {
     "name": "stdout",
     "output_type": "stream",
     "text": [
      "Rabisa,Tanzila,Rubab\n"
     ]
    }
   ],
   "source": [
    "name1 = \"Rabisa\";\n",
    "name2 = \"Tanzila\";\n",
    "name3 = \"Rubab\";\n",
    "print(name1+ \",\" +name2+ \",\" +name3)"
   ]
  },
  {
   "cell_type": "code",
   "execution_count": 3,
   "id": "8fd42c3c",
   "metadata": {},
   "outputs": [
    {
     "name": "stdout",
     "output_type": "stream",
     "text": [
      "['Rabisa', 'Tanzila', 'Rubab']\n"
     ]
    }
   ],
   "source": [
    "#list(list use for identification of elements by using index, index always starts with zero)\n",
    "name= [\"Rabisa\", \"Tanzila\", \"Rubab\"];\n",
    "print(name)"
   ]
  },
  {
   "cell_type": "code",
   "execution_count": 4,
   "id": "7edf392f",
   "metadata": {},
   "outputs": [
    {
     "name": "stdout",
     "output_type": "stream",
     "text": [
      "['Rabisa', 'Tanzila', 'shehnul']\n"
     ]
    }
   ],
   "source": [
    "name[2]=\"shehnul\";\n",
    "print(name)"
   ]
  },
  {
   "cell_type": "code",
   "execution_count": 26,
   "id": "54364a65",
   "metadata": {},
   "outputs": [
    {
     "name": "stdout",
     "output_type": "stream",
     "text": [
      "['Rabisa', 'shehnul', 'Rubab', 'Tanzila']\n"
     ]
    }
   ],
   "source": [
    "name.append(\"Tanzila\");\n",
    "print(name)"
   ]
  },
  {
   "cell_type": "raw",
   "id": "5cbf2217",
   "metadata": {},
   "source": [
    "arr= [\"lion\", 12, True, 5.49];\n",
    "print(arr)"
   ]
  },
  {
   "cell_type": "code",
   "execution_count": 9,
   "id": "79868396",
   "metadata": {},
   "outputs": [
    {
     "name": "stdout",
     "output_type": "stream",
     "text": [
      "['lion', 12, True, 5.49]\n"
     ]
    }
   ],
   "source": [
    "arr= [\"lion\", 12, True, 5.49];\n",
    "print (arr)"
   ]
  },
  {
   "cell_type": "code",
   "execution_count": 29,
   "id": "7a43d7c8",
   "metadata": {},
   "outputs": [
    {
     "name": "stdout",
     "output_type": "stream",
     "text": [
      "['Rabisa', 'shehnul', 'Rubab', 'Tanzila', 'lion', 12, True, 5.49]\n"
     ]
    }
   ],
   "source": [
    "#to merge two lists\n",
    "newlist= name+arr;\n",
    "print(newlist)"
   ]
  },
  {
   "cell_type": "code",
   "execution_count": 30,
   "id": "584153b6",
   "metadata": {},
   "outputs": [
    {
     "data": {
      "text/plain": [
       "['Rabisa', 'shehnul', 'Rubab', 'Tanzila']"
      ]
     },
     "execution_count": 30,
     "metadata": {},
     "output_type": "execute_result"
    }
   ],
   "source": [
    "name"
   ]
  },
  {
   "cell_type": "code",
   "execution_count": 35,
   "id": "35771205",
   "metadata": {},
   "outputs": [
    {
     "name": "stdout",
     "output_type": "stream",
     "text": [
      "['lion', 12, 'wadiat', True, 5.49]\n"
     ]
    }
   ],
   "source": [
    "arr.insert(2,\"wadiat\");\n",
    "print(arr)"
   ]
  },
  {
   "cell_type": "raw",
   "id": "4463915f",
   "metadata": {},
   "source": []
  },
  {
   "cell_type": "code",
   "execution_count": 36,
   "id": "fc940fd0",
   "metadata": {},
   "outputs": [
    {
     "name": "stdout",
     "output_type": "stream",
     "text": [
      "['wadiat', True]\n"
     ]
    }
   ],
   "source": [
    "#slicing\n",
    "arr2=arr[2:4];\n",
    "print(arr2)"
   ]
  },
  {
   "cell_type": "code",
   "execution_count": 38,
   "id": "116f7538",
   "metadata": {},
   "outputs": [
    {
     "name": "stdout",
     "output_type": "stream",
     "text": [
      "['wadiat', True, 5.49]\n"
     ]
    }
   ],
   "source": [
    "arr3=arr[2:5];\n",
    "print(arr3)"
   ]
  },
  {
   "cell_type": "code",
   "execution_count": 39,
   "id": "6063cae7",
   "metadata": {},
   "outputs": [
    {
     "name": "stdout",
     "output_type": "stream",
     "text": [
      "['lion', 12, 'wadiat']\n"
     ]
    }
   ],
   "source": [
    "arr4= arr[:3];\n",
    "print(arr4)"
   ]
  },
  {
   "cell_type": "code",
   "execution_count": 17,
   "id": "162021b5",
   "metadata": {},
   "outputs": [
    {
     "ename": "IndexError",
     "evalue": "list assignment index out of range",
     "output_type": "error",
     "traceback": [
      "\u001b[1;31m---------------------------------------------------------------------------\u001b[0m",
      "\u001b[1;31mIndexError\u001b[0m                                Traceback (most recent call last)",
      "\u001b[1;32m<ipython-input-17-5b78d52ec23a>\u001b[0m in \u001b[0;36m<module>\u001b[1;34m\u001b[0m\n\u001b[1;32m----> 1\u001b[1;33m \u001b[1;32mdel\u001b[0m \u001b[0marr\u001b[0m\u001b[1;33m[\u001b[0m\u001b[1;36m5\u001b[0m\u001b[1;33m]\u001b[0m\u001b[1;33m;\u001b[0m\u001b[1;33m\u001b[0m\u001b[1;33m\u001b[0m\u001b[0m\n\u001b[0m\u001b[0;32m      2\u001b[0m \u001b[0mprint\u001b[0m\u001b[1;33m(\u001b[0m\u001b[0marr\u001b[0m\u001b[1;33m)\u001b[0m\u001b[1;33m\u001b[0m\u001b[1;33m\u001b[0m\u001b[0m\n",
      "\u001b[1;31mIndexError\u001b[0m: list assignment index out of range"
     ]
    }
   ],
   "source": [
    "del arr[5];\n",
    "print(arr)"
   ]
  },
  {
   "cell_type": "raw",
   "id": "ce4c1b10",
   "metadata": {},
   "source": []
  },
  {
   "cell_type": "code",
   "execution_count": 43,
   "id": "16599704",
   "metadata": {},
   "outputs": [
    {
     "name": "stdout",
     "output_type": "stream",
     "text": [
      "['lion', True, 5.49]\n"
     ]
    }
   ],
   "source": [
    "arr.remove(12)\n",
    "print(arr);"
   ]
  },
  {
   "cell_type": "code",
   "execution_count": 11,
   "id": "c574d745",
   "metadata": {},
   "outputs": [
    {
     "name": "stdout",
     "output_type": "stream",
     "text": [
      "['lion', 12, 5.49]\n"
     ]
    }
   ],
   "source": [
    "#pop removes last entry\n",
    "arr.pop(2)\n",
    "print(arr)"
   ]
  },
  {
   "cell_type": "code",
   "execution_count": null,
   "id": "114a1e53",
   "metadata": {},
   "outputs": [],
   "source": []
  },
  {
   "cell_type": "code",
   "execution_count": 15,
   "id": "7ca2e17e",
   "metadata": {},
   "outputs": [
    {
     "ename": "NameError",
     "evalue": "name 'arr6' is not defined",
     "output_type": "error",
     "traceback": [
      "\u001b[1;31m---------------------------------------------------------------------------\u001b[0m",
      "\u001b[1;31mNameError\u001b[0m                                 Traceback (most recent call last)",
      "\u001b[1;32m<ipython-input-15-1c608901d371>\u001b[0m in \u001b[0;36m<module>\u001b[1;34m\u001b[0m\n\u001b[0;32m      1\u001b[0m \u001b[0marr\u001b[0m\u001b[1;33m.\u001b[0m\u001b[0minsert\u001b[0m\u001b[1;33m(\u001b[0m\u001b[1;36m2\u001b[0m\u001b[1;33m,\u001b[0m \u001b[1;34m\"ok\"\u001b[0m\u001b[1;33m)\u001b[0m\u001b[1;33m;\u001b[0m\u001b[1;33m\u001b[0m\u001b[1;33m\u001b[0m\u001b[0m\n\u001b[1;32m----> 2\u001b[1;33m \u001b[0mprint\u001b[0m\u001b[1;33m(\u001b[0m\u001b[0marr6\u001b[0m\u001b[1;33m)\u001b[0m\u001b[1;33m\u001b[0m\u001b[1;33m\u001b[0m\u001b[0m\n\u001b[0m",
      "\u001b[1;31mNameError\u001b[0m: name 'arr6' is not defined"
     ]
    }
   ],
   "source": [
    "arr.insert(2, \"ok\");\n",
    "print(arr6)"
   ]
  },
  {
   "cell_type": "code",
   "execution_count": 16,
   "id": "0b7dd59f",
   "metadata": {},
   "outputs": [
    {
     "ename": "SyntaxError",
     "evalue": "invalid syntax (<ipython-input-16-561c6c4cc591>, line 2)",
     "output_type": "error",
     "traceback": [
      "\u001b[1;36m  File \u001b[1;32m\"<ipython-input-16-561c6c4cc591>\"\u001b[1;36m, line \u001b[1;32m2\u001b[0m\n\u001b[1;33m    If x =1:\u001b[0m\n\u001b[1;37m       ^\u001b[0m\n\u001b[1;31mSyntaxError\u001b[0m\u001b[1;31m:\u001b[0m invalid syntax\n"
     ]
    }
   ],
   "source": [
    " x=1\n",
    "If x =1:\n",
    "print(“Correct”);"
   ]
  },
  {
   "cell_type": "code",
   "execution_count": 18,
   "id": "20d30044",
   "metadata": {},
   "outputs": [
    {
     "ename": "TypeError",
     "evalue": "can only concatenate str (not \"int\") to str",
     "output_type": "error",
     "traceback": [
      "\u001b[1;31m---------------------------------------------------------------------------\u001b[0m",
      "\u001b[1;31mTypeError\u001b[0m                                 Traceback (most recent call last)",
      "\u001b[1;32m<ipython-input-18-209b76d11bd2>\u001b[0m in \u001b[0;36m<module>\u001b[1;34m\u001b[0m\n\u001b[0;32m      1\u001b[0m \u001b[0mname\u001b[0m \u001b[1;33m=\u001b[0m \u001b[1;34m\"Ali\"\u001b[0m\u001b[1;33m\u001b[0m\u001b[1;33m\u001b[0m\u001b[0m\n\u001b[0;32m      2\u001b[0m \u001b[0mage\u001b[0m \u001b[1;33m=\u001b[0m \u001b[1;36m18\u001b[0m\u001b[1;33m\u001b[0m\u001b[1;33m\u001b[0m\u001b[0m\n\u001b[1;32m----> 3\u001b[1;33m \u001b[0mnameAge\u001b[0m \u001b[1;33m=\u001b[0m \u001b[0mname\u001b[0m \u001b[1;33m+\u001b[0m \u001b[0mage\u001b[0m\u001b[1;33m;\u001b[0m\u001b[1;33m\u001b[0m\u001b[1;33m\u001b[0m\u001b[0m\n\u001b[0m",
      "\u001b[1;31mTypeError\u001b[0m: can only concatenate str (not \"int\") to str"
     ]
    }
   ],
   "source": [
    "name = \"Ali\"\n",
    "age = 18 \n",
    "nameAge = name + age;"
   ]
  },
  {
   "cell_type": "code",
   "execution_count": null,
   "id": "4ea735ff",
   "metadata": {},
   "outputs": [],
   "source": []
  }
 ],
 "metadata": {
  "kernelspec": {
   "display_name": "Python 3",
   "language": "python",
   "name": "python3"
  },
  "language_info": {
   "codemirror_mode": {
    "name": "ipython",
    "version": 3
   },
   "file_extension": ".py",
   "mimetype": "text/x-python",
   "name": "python",
   "nbconvert_exporter": "python",
   "pygments_lexer": "ipython3",
   "version": "3.8.8"
  }
 },
 "nbformat": 4,
 "nbformat_minor": 5
}

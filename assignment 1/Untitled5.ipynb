{
 "cells": [
  {
   "cell_type": "code",
   "execution_count": 15,
   "id": "6ca835fb",
   "metadata": {},
   "outputs": [
    {
     "name": "stdout",
     "output_type": "stream",
     "text": [
      "So far so good.\n",
      "Congratulations.\n",
      "All done\n"
     ]
    }
   ],
   "source": [
    "number_of_husbands=1;\n",
    "if number_of_husbands==1:\n",
    "    print(\"So far so good.\")\n",
    "    print(\"Congratulations.\")\n",
    "    print(\"All done\")"
   ]
  },
  {
   "cell_type": "code",
   "execution_count": 9,
   "id": "c702a1bf",
   "metadata": {},
   "outputs": [
    {
     "name": "stdout",
     "output_type": "stream",
     "text": [
      "Enter a value:5\n",
      "30\n"
     ]
    }
   ],
   "source": [
    "x=input(\"Enter a value:\");\n",
    "y=25;\n",
    "z=int(x)+y;\n",
    "print(z)"
   ]
  },
  {
   "cell_type": "code",
   "execution_count": 14,
   "id": "d8ed1dae",
   "metadata": {},
   "outputs": [
    {
     "name": "stdout",
     "output_type": "stream",
     "text": [
      "bye\n"
     ]
    }
   ],
   "source": [
    "number_of_husbands=3;\n",
    "if number_of_husbands==1:\n",
    "    print(\"So far so good.\")\n",
    "else:\n",
    "        print(\"bye\")"
   ]
  },
  {
   "cell_type": "code",
   "execution_count": null,
   "id": "19a08515",
   "metadata": {},
   "outputs": [],
   "source": []
  },
  {
   "cell_type": "code",
   "execution_count": null,
   "id": "a8ae5690",
   "metadata": {},
   "outputs": [],
   "source": []
  }
 ],
 "metadata": {
  "kernelspec": {
   "display_name": "Python 3",
   "language": "python",
   "name": "python3"
  },
  "language_info": {
   "codemirror_mode": {
    "name": "ipython",
    "version": 3
   },
   "file_extension": ".py",
   "mimetype": "text/x-python",
   "name": "python",
   "nbconvert_exporter": "python",
   "pygments_lexer": "ipython3",
   "version": "3.8.8"
  }
 },
 "nbformat": 4,
 "nbformat_minor": 5
}

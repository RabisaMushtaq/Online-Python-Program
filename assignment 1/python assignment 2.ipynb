{
 "cells": [
  {
   "cell_type": "code",
   "execution_count": 18,
   "id": "c59de512",
   "metadata": {},
   "outputs": [
    {
     "name": "stdout",
     "output_type": "stream",
     "text": [
      "Total Marks= 300\n",
      "Obtained Marks= 239\n",
      "Percentage= 79.66666666666666 %\n",
      "Grade A\n"
     ]
    }
   ],
   "source": [
    "Eng=69;\n",
    "Isl=90;\n",
    "Maths=80;\n",
    "Total=300;\n",
    "Obtained=Eng+Isl+Maths\n",
    "Percent=Obtained/Total*100;\n",
    "print(\"Total Marks=\", Total)\n",
    "print(\"Obtained Marks=\", Obtained)\n",
    "print(\"Percentage=\",Percent ,\"%\")\n",
    "if Percent < 100 and Percent >= 80:\n",
    "    print(\"Grade A+\")\n",
    "elif Percent < 80 and Percent >= 70:\n",
    "    print(\"Grade A\")\n",
    "elif Percent < 70 and Percent >= 60:\n",
    "    print(\"Grade B\")\n",
    "elif Percent < 60 and Percent >= 50:\n",
    "    print(\"Grade C\")\n",
    "elif Percent < 50 and Percent >= 45:\n",
    "    print(\"Grade D\")\n",
    "else:\n",
    "    print(\"fail\")\n"
   ]
  },
  {
   "cell_type": "code",
   "execution_count": null,
   "id": "07de7a04",
   "metadata": {},
   "outputs": [],
   "source": []
  },
  {
   "cell_type": "code",
   "execution_count": null,
   "id": "43ee5b79",
   "metadata": {},
   "outputs": [],
   "source": []
  }
 ],
 "metadata": {
  "kernelspec": {
   "display_name": "Python 3",
   "language": "python",
   "name": "python3"
  },
  "language_info": {
   "codemirror_mode": {
    "name": "ipython",
    "version": 3
   },
   "file_extension": ".py",
   "mimetype": "text/x-python",
   "name": "python",
   "nbconvert_exporter": "python",
   "pygments_lexer": "ipython3",
   "version": "3.8.8"
  }
 },
 "nbformat": 4,
 "nbformat_minor": 5
}
